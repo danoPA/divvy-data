{
 "cells": [
  {
   "cell_type": "code",
   "execution_count": 1,
   "metadata": {
    "collapsed": true
   },
   "outputs": [],
   "source": [
    "import sqlite3 as sql\n",
    "import pandas as pd\n",
    "import numpy as np"
   ]
  },
  {
   "cell_type": "code",
   "execution_count": 2,
   "metadata": {
    "collapsed": true
   },
   "outputs": [],
   "source": [
    "CONN = sql.connect(\"/Users/divya/projects/pandas/divvy-example/Divvy_Trips.db\")\n",
    "stations = \"SELECT * FROM temp WHERE [FROM STATION ID] = 90 OR [TO STATION ID] = 90\";\n",
    "df = pd.read_sql(stations, con = CONN)\n",
    "CONN.close()"
   ]
  },
  {
   "cell_type": "code",
   "execution_count": 4,
   "metadata": {
    "collapsed": false
   },
   "outputs": [
    {
     "data": {
      "text/plain": [
       "TRIP ID                   object\n",
       "START TIME                object\n",
       "STOP TIME                 object\n",
       "BIKE ID                   object\n",
       "TRIP DURATION             object\n",
       "FROM STATION ID           object\n",
       "FROM STATION NAME         object\n",
       "TO STATION ID             object\n",
       "TO STATION NAME           object\n",
       "USER TYPE                 object\n",
       "GENDER                    object\n",
       "BIRTH YEAR                object\n",
       "FROM LATITUDE             object\n",
       "FROM LONGITUDE            object\n",
       "FROM LOCATION             object\n",
       "TO LATITUDE               object\n",
       "TO LONGITUDE              object\n",
       "TO LOCATION               object\n",
       "Boundaries - ZIP Codes    object\n",
       "Zip Codes                 object\n",
       "Community Areas           object\n",
       "Wards                     object\n",
       "dtype: object"
      ]
     },
     "execution_count": 4,
     "metadata": {},
     "output_type": "execute_result"
    }
   ],
   "source": [
    "df.dtypes"
   ]
  },
  {
   "cell_type": "code",
   "execution_count": 50,
   "metadata": {
    "collapsed": false
   },
   "outputs": [],
   "source": [
    "#df['START TIME'] \n",
    "\n",
    "\n",
    "df['START TIME'] = pd.to_datetime(df['START TIME'], format=\"%m/%d/%Y %I:%M:%S %p\")\n",
    "df['STOP TIME'] = pd.to_datetime(df['STOP TIME'], format=\"%m/%d/%Y %I:%M:%S %p\")"
   ]
  },
  {
   "cell_type": "code",
   "execution_count": 38,
   "metadata": {
    "collapsed": false
   },
   "outputs": [
    {
     "data": {
      "text/plain": [
       "TRIP ID                           object\n",
       "START TIME                datetime64[ns]\n",
       "STOP TIME                 datetime64[ns]\n",
       "BIKE ID                           object\n",
       "TRIP DURATION                     object\n",
       "FROM STATION ID                   object\n",
       "FROM STATION NAME                 object\n",
       "TO STATION ID                     object\n",
       "TO STATION NAME                   object\n",
       "USER TYPE                         object\n",
       "GENDER                            object\n",
       "BIRTH YEAR                        object\n",
       "FROM LATITUDE                     object\n",
       "FROM LONGITUDE                    object\n",
       "FROM LOCATION                     object\n",
       "TO LATITUDE                       object\n",
       "TO LONGITUDE                      object\n",
       "TO LOCATION                       object\n",
       "Boundaries - ZIP Codes            object\n",
       "Zip Codes                         object\n",
       "Community Areas                   object\n",
       "Wards                             object\n",
       "dtype: object"
      ]
     },
     "execution_count": 38,
     "metadata": {},
     "output_type": "execute_result"
    }
   ],
   "source": [
    "df.dtypes"
   ]
  },
  {
   "cell_type": "code",
   "execution_count": 51,
   "metadata": {
    "collapsed": false
   },
   "outputs": [],
   "source": [
    "# docs for datetime\n",
    "#https://docs.python.org/2/library/datetime.html"
   ]
  },
  {
   "cell_type": "code",
   "execution_count": null,
   "metadata": {
    "collapsed": false
   },
   "outputs": [],
   "source": [
    "df.groupby(['START TIME'])['TO STATION NAME'].describe()"
   ]
  },
  {
   "cell_type": "code",
   "execution_count": null,
   "metadata": {
    "collapsed": false
   },
   "outputs": [],
   "source": [
    "df['TRIP DURATION']"
   ]
  },
  {
   "cell_type": "code",
   "execution_count": null,
   "metadata": {
    "collapsed": true
   },
   "outputs": [],
   "source": []
  }
 ],
 "metadata": {
  "kernelspec": {
   "display_name": "Python 2",
   "language": "python",
   "name": "python2"
  },
  "language_info": {
   "codemirror_mode": {
    "name": "ipython",
    "version": 2
   },
   "file_extension": ".py",
   "mimetype": "text/x-python",
   "name": "python",
   "nbconvert_exporter": "python",
   "pygments_lexer": "ipython2",
   "version": "2.7.13"
  }
 },
 "nbformat": 4,
 "nbformat_minor": 1
}
